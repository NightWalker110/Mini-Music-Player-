{
 "cells": [
  {
   "cell_type": "code",
   "execution_count": 5,
   "metadata": {},
   "outputs": [
    {
     "name": "stdout",
     "output_type": "stream",
     "text": [
      "pygame 2.0.1 (SDL 2.0.14, Python 3.8.5)\n",
      "Hello from the pygame community. https://www.pygame.org/contribute.html\n"
     ]
    }
   ],
   "source": [
    "from pygame import mixer"
   ]
  },
  {
   "cell_type": "code",
   "execution_count": 6,
   "metadata": {},
   "outputs": [],
   "source": [
    "mixer.init()\n"
   ]
  },
  {
   "cell_type": "code",
   "execution_count": 13,
   "metadata": {},
   "outputs": [],
   "source": [
    "mixer.music.load(\"Music/perfect.mp3\")\n",
    "mixer.music.set_volume(0.7)\n",
    "mixer.music.play()"
   ]
  },
  {
   "cell_type": "code",
   "execution_count": 12,
   "metadata": {},
   "outputs": [
    {
     "name": "stdout",
     "output_type": "stream",
     "text": [
      "Press 'p' to pause\n",
      "Press 'r' to resume\n",
      "Press 'e' to exit \n",
      "Press 'q' to queue\n",
      ">>> q\n",
      "yuhhh! Song added, wait till previous one ended.\n"
     ]
    }
   ],
   "source": [
    "while True: \n",
    "    print(\"Press 'p' to pause\") \n",
    "    print(\"Press 'r' to resume\") \n",
    "    print(\"Press 'e' to exit \") \n",
    "    print(\"Press 'q' to queue\") \n",
    "    query = input(\">>> \")\n",
    "\n",
    "    if query == 'p':\n",
    "        mixer.music.pause()\n",
    "        print(\"Eawww!! your song is paused.\")\n",
    "    elif query == 'r':\n",
    "        mixer.music.unpause()\n",
    "        print(\"Hurrah!! you played the song.\")\n",
    "    elif query == 'e':\n",
    "        mixer.music.stop()\n",
    "        print(\"I think you pressed exit.\")\n",
    "    elif query == 'q':\n",
    "        mixer.music.queue('Music/wedont.mp3')\n",
    "        print(\"yuhhh! Song added, wait till previous one ended.\")\n",
    "    break"
   ]
  },
  {
   "cell_type": "code",
   "execution_count": null,
   "metadata": {},
   "outputs": [],
   "source": []
  }
 ],
 "metadata": {
  "kernelspec": {
   "display_name": "Python 3",
   "language": "python",
   "name": "python3"
  },
  "language_info": {
   "codemirror_mode": {
    "name": "ipython",
    "version": 3
   },
   "file_extension": ".py",
   "mimetype": "text/x-python",
   "name": "python",
   "nbconvert_exporter": "python",
   "pygments_lexer": "ipython3",
   "version": "3.8.5"
  }
 },
 "nbformat": 4,
 "nbformat_minor": 4
}
